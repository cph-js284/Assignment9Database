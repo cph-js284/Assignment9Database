{
 "cells": [
  {
   "cell_type": "markdown",
   "metadata": {},
   "source": [
    "Considering the SQL-statement:"
   ]
  },
  {
   "cell_type": "raw",
   "metadata": {},
   "source": [
    "select customers.customerName, offices.city as office_city\n",
    "from customers, employees, offices\n",
    "where \n",
    "    customers.salesRepEmployeeNumber = employees.employeeNumber and \n",
    "    employees.officeCode = offices.officeCode and\n",
    "    customers.city = offices.city;\n"
   ]
  },
  {
   "cell_type": "markdown",
   "metadata": {},
   "source": [
    "### Rewriting this statement to relational algebra:"
   ]
  },
  {
   "cell_type": "markdown",
   "metadata": {},
   "source": [
    "Splitting it up into components"
   ]
  },
  {
   "cell_type": "markdown",
   "metadata": {},
   "source": [
    "Rename component:<br/>\n",
    "$\\rho_{office\\_city/office.city}$\n",
    "\n",
    "Select(projection) component:<br/>\n",
    "$\\Pi_{customers.customerName, office\\_city}$\n",
    "\n",
    "From conponent:<br/>\n",
    "$(customers \\times employees \\times offices)$\n",
    "\n",
    "where(Sigma) component:<br/>\n",
    "$\\sigma_P$,<br/> \n",
    "    where P = $salesRepEmployeeNumber=employeeNumber\n",
    "    \\wedge employees.officeCode = offices.officeCode\n",
    "    \\wedge customers.city = offices.city $\n",
    "\n",
    "<br/>\n",
    "Making the end result the following:<br/>\n",
    "<i>The sigma part of this has been reduce due to the use of bowtie between emplooes and offices, this is possible because the values in the columns are the same.</i><br/>\n",
    "<br/>\n",
    "$\\Pi_{customerName,office\\_city}(\\rho_{office\\_city/office.city}(\\sigma_{salesRepEmployeeNumber=employeeNumber}(customers\\times (employees\\bowtie offices))))$"
   ]
  },
  {
   "cell_type": "markdown",
   "metadata": {},
   "source": [
    "### Adding row counts to the subexpressions"
   ]
  },
  {
   "cell_type": "markdown",
   "metadata": {},
   "source": [
    "Same statement as above just with added rowcount<br/>\n",
    "<i>The number of rows was found using a simple select count(*) from 'table'</i><br/>\n",
    "<br/>\n",
    "$\\Pi_{customerName,office\\_city}(\\rho_{office\\_city/office.city}(\\sigma_{salesRepEmployeeNumber=employeeNumber}(customers^{[122]}\\times (employees^{[23]}\\bowtie offices^{[7]})^{[23]} )^{[2806]} )^{[14]})$\n"
   ]
  },
  {
   "cell_type": "markdown",
   "metadata": {},
   "source": [
    "### Rewriting to a better expression"
   ]
  },
  {
   "cell_type": "markdown",
   "metadata": {},
   "source": [
    "To optimize we attepmt to 'move' the sigma 'closer' to the tables resulting in the following:<br/>\n",
    "<i>Show here with the rowcount included to document the optimization</i><br/>\n",
    "<br/>\n",
    "$\\Pi_{customerName,office\\_city}(\\rho_{office_city/office.city}((\\sigma_{salesRepEmployeeNumber=employeeNumber}(customers^{[122]}\\times employees^{[23]}))^{[14]}\\bowtie offices^{[7]})^{[14]})$"
   ]
  },
  {
   "cell_type": "code",
   "execution_count": null,
   "metadata": {},
   "outputs": [],
   "source": []
  }
 ],
 "metadata": {
  "kernelspec": {
   "display_name": "Python 3",
   "language": "python",
   "name": "python3"
  },
  "language_info": {
   "codemirror_mode": {
    "name": "ipython",
    "version": 3
   },
   "file_extension": ".py",
   "mimetype": "text/x-python",
   "name": "python",
   "nbconvert_exporter": "python",
   "pygments_lexer": "ipython3",
   "version": "3.6.7"
  }
 },
 "nbformat": 4,
 "nbformat_minor": 2
}
